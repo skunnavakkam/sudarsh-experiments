{
 "cells": [
  {
   "cell_type": "markdown",
   "metadata": {},
   "source": [
    "I think that it should be possible to \"diff\" models like Anthropic does in their crosscoder paper, without training a crosscoder! \n",
    "\n",
    "We can think of a transformer $T$ as a function from an activation vector to a piece of text in semantic space. Defining addition in this semantic space is kind of tricky, but we say that if we add together two pieces of text that are \"happy\", we get a piece of text that is happier.\n",
    "\n",
    "From the initial paper on sparse autoencoders, we know that for two feature vectors $U, V$:\n",
    "\n",
    "$T(U + V) \\approx T(U) + T(V)$\n",
    "\n",
    "Take this approx with a huge grain of salt, but we can then say that this transformer is a linear map between the SAE feature space and the semantic space.\n",
    "\n",
    "If for two different transformers $T_1, T_2$ acting on activation spaces $A_1, A_2$, we can find a linear map from $A_1$ to $A_2$ that best aligns the two models, and because the transformer is linear, this alignment should be pretty good! We can then look at where this alignment fails and use that to understand differences between the two models.\n",
    "\n",
    "This linear map from $A_1$ to $A_2$ is like a change of basis between the two model activation spaces.\n",
    "\n",
    "Basically, you can find a transformation between the features of one model and the features of another model, and where this transformation fails is where the two models have the most difference.\n",
    "\n",
    "In this post / notebook, I show emperical evidence that this may be possible!\n",
    "\n",
    "## Method\n",
    "\n",
    "The method is as follows:\n",
    "\n",
    "I first learn a linear map between activation spaces $A_1$ and $A_2$ of two different models $T_1, T_2$. I do this by collecting a dataset of activation vectors from each model on the same pieces of text, and learn the linear map $R$ that best converts between the two activation spaces.\n",
    "\n",
    "I then take the features that form the basis for the feature spaces $F_1, F_2$. We can convert all the features in $F_1$ to the $F_2$ space using the linear map $R$, but I don't know correspondence between the features in $F_1$ and $F_2$. Thus, I use the linear assignment solver / hungarian algorithm to find the best permutation of the features in $F_1$ that minimizes the distance to the features in $F_2$. \n",
    "\n",
    "I take this alignment for granted, and say that it is perfect. Then, we can say that this is basically the same thing as the crosscoder vector, and just like the crosscoder we can look at the encoder norms to the permuted features in $F_1$ and the encoder norms to the features in $F_2$. Where these differ the most is the features where the models have the most difference.\n",
    "\n",
    "In order to test this, I use the self-interp method introduced in [Self-explaining SAE Features (Kharlapenko et al.)](https://www.alignmentforum.org/posts/8ev6coxChSWcxCDy8/self-explaining-sae-featuress). This is not ideal, and having the dashboards for this SAE would be best, but I don't have access to this.\n",
    "\n",
    "## Implementation\n",
    "\n",
    "I provide a lot of code here. Feel free to skip to the section \"Conclusions\" if you want to see the results.\n",
    "\n",
    "We first generate the data for points to align.\n",
    "\n"
   ]
  },
  {
   "cell_type": "code",
   "execution_count": null,
   "metadata": {},
   "outputs": [],
   "source": [
    "raise Exception(\"\"\"This code isn't meant to be run with the rest of the code. \n",
    "                It generates the data for the rest of the code, and this seems\n",
    "                bad to run again everytime you want to do the experiment.\n",
    "                Comment this out!\"\"\")\n",
    "\n",
    "from transformer_lens import HookedTransformer\n",
    "from datasets import load_dataset\n",
    "from tqdm import tqdm\n",
    "import torch\n",
    "\n",
    "torch.set_grad_enabled(False)\n",
    "\n",
    "device = \"mps\"\n",
    "if torch.backends.mps.is_available():\n",
    "    device = \"mps\"\n",
    "else:\n",
    "    device = \"cuda\" if torch.cuda.is_available() else \"cpu\"\n",
    "\n",
    "gemma_2b_it = HookedTransformer.from_pretrained(\n",
    "    \"gemma-2b-it\",\n",
    "    torch_dtype=torch.bfloat16, \n",
    ").to(device)\n",
    "dataset = load_dataset(\"allenai/c4\", \"en\", split=\"train\", streaming=True)\n",
    "dataset_iter = iter(dataset)\n",
    "first_500_points = [next(dataset_iter)[\"text\"] for _ in range(500)]\n",
    "tokens = gemma_2b_it.to_tokens(\n",
    "    first_500_points, prepend_bos=True, padding_side=\"left\", move_to_device=True\n",
    ").detach()[:, :2048]\n",
    "\n",
    "# prepare hooks\n",
    "gemma_2b_activations = []\n",
    "gemma_2b_it_activations = []\n",
    "\n",
    "print(tokens.shape)\n",
    "\n",
    "def gemma_2b_hook(activations, hook):\n",
    "    act = activations[..., -1, :].detach().cpu()  # Keep on GPU\n",
    "    gemma_2b_activations.append(act)\n",
    "\n",
    "def gemma_2b_it_hook(activations, hook):\n",
    "    act = activations[..., -1, :].detach().cpu()  # Keep on GPU\n",
    "    gemma_2b_it_activations.append(act)\n",
    "\n",
    "# Run inference\n",
    "BATCH_SIZE = 5\n",
    "for i in tqdm(range(0, len(tokens), BATCH_SIZE)):\n",
    "    batch = tokens[i:i + BATCH_SIZE]\n",
    "    ans = gemma_2b_it.run_with_hooks(\n",
    "        batch,\n",
    "        fwd_hooks=[(\"blocks.12.hook_resid_post\", gemma_2b_it_hook)],\n",
    "    )\n",
    "    del ans\n",
    "    torch.cuda.empty_cache()\n",
    "\n",
    "del gemma_2b_it\n",
    "torch.cuda.empty_cache()\n",
    "\n",
    "# Load second model to GPU with bf16\n",
    "gemma_2b = HookedTransformer.from_pretrained(\n",
    "    \"gemma-2b\",\n",
    "    torch_dtype=torch.bfloat16\n",
    ").to(device)\n",
    "\n",
    "for i in tqdm(range(0, len(tokens), BATCH_SIZE)):\n",
    "    batch = tokens[i:i + BATCH_SIZE]\n",
    "    ans = gemma_2b.run_with_hooks(\n",
    "        batch,\n",
    "        fwd_hooks=[(\"blocks.12.hook_resid_post\", gemma_2b_hook)],\n",
    "    )\n",
    "    del ans\n",
    "    torch.cuda.empty_cache()\n",
    "# concatenate activations (still on GPU)\n",
    "gemma_2b_activations = torch.cat(gemma_2b_activations, dim=0)\n",
    "gemma_2b_it_activations = torch.cat(gemma_2b_it_activations, dim=0)\n",
    "\n",
    "del tokens, gemma_2b\n",
    "torch.cuda.empty_cache()\n",
    "\n",
    "# Move to CPU only when saving\n",
    "torch.save(gemma_2b_activations, \"similarity_of_sae_dir/gemma_2b_activations.pt\")\n",
    "torch.save(gemma_2b_it_activations, \"similarity_of_sae_dir/gemma_2b_it_activations.pt\")"
   ]
  },
  {
   "cell_type": "markdown",
   "metadata": {},
   "source": [
    "Now, we load this dataset and learn the linear map between the two activation spaces."
   ]
  },
  {
   "cell_type": "code",
   "execution_count": 1,
   "metadata": {},
   "outputs": [
    {
     "name": "stdout",
     "output_type": "stream",
     "text": [
      "(500, 2048) (500, 2048)\n"
     ]
    }
   ],
   "source": [
    "import torch\n",
    "import numpy as np\n",
    "from sae_lens import SAE\n",
    "from transformer_lens import HookedTransformer\n",
    "from numpy.linalg import norm\n",
    "\n",
    "gemma_2b_activations = torch.load(\"similarity_of_sae_dir/gemma_2b_activations.pt\", weights_only=True).float().cpu().numpy()\n",
    "gemma_2b_it_activations = torch.load(\"similarity_of_sae_dir/gemma_2b_it_activations.pt\", weights_only=True).float().cpu().numpy()\n",
    "\n",
    "print(gemma_2b_activations.shape, gemma_2b_it_activations.shape)"
   ]
  },
  {
   "cell_type": "code",
   "execution_count": 2,
   "metadata": {},
   "outputs": [
    {
     "name": "stdout",
     "output_type": "stream",
     "text": [
      "Mean squared error: 3.2549355296672035e-12\n",
      "Frobenius norm of error: 0.0018256653533382547\n",
      "Frobenius norm of R: 0.24972663642939782\n"
     ]
    }
   ],
   "source": [
    "# First compute A^T A with regularization term\n",
    "lambda_reg = 1.0  # L2 regularization strength\n",
    "n_features = gemma_2b_activations.shape[1]\n",
    "ATA = gemma_2b_activations.T @ gemma_2b_activations + lambda_reg * np.eye(n_features)\n",
    "\n",
    "# Then compute A^T B \n",
    "ATB = gemma_2b_activations.T @ gemma_2b_it_activations\n",
    "\n",
    "# Solve for R with regularization\n",
    "R = np.linalg.solve(ATA, ATB)\n",
    "\n",
    "# Compute the transformed activations\n",
    "transformed_activations = gemma_2b_activations @ R\n",
    "\n",
    "# Calculate error\n",
    "error = np.mean((transformed_activations - gemma_2b_it_activations) ** 2)\n",
    "print(f\"Mean squared error: {error}\")\n",
    "\n",
    "# Print the frobenius norm of the error\n",
    "frobenius_norm_error = norm(transformed_activations - gemma_2b_it_activations, \"fro\")\n",
    "print(f\"Frobenius norm of error: {frobenius_norm_error}\")\n",
    "\n",
    "# Print the frobenius norm of R to check if regularization helped\n",
    "print(f\"Frobenius norm of R: {norm(R, 'fro')}\")\n"
   ]
  },
  {
   "cell_type": "markdown",
   "metadata": {},
   "source": [
    "Now, we load the SAEs and get the features."
   ]
  },
  {
   "cell_type": "code",
   "execution_count": 3,
   "metadata": {},
   "outputs": [],
   "source": [
    "import matplotlib.pyplot as plt\n",
    "from sae_lens import SAE\n",
    "from transformer_lens import HookedTransformer\n",
    "from sklearn.decomposition import PCA\n",
    "import numpy as np\n",
    "import torch\n",
    "\n",
    "# disable gradients\n",
    "torch.set_grad_enabled(False)\n",
    "\n",
    "gemma_2b_sae, gemma_2b_cfg, gemma_2b_sparsity = SAE.from_pretrained(\n",
    "    release=\"gemma-2b-res-jb\",\n",
    "    sae_id=\"blocks.12.hook_resid_post\",\n",
    "    device=\"mps\"\n",
    ")\n",
    "\n",
    "gemma_2b_it_sae, gemma_2b_it_cfg, gemma_2b_it_sparsity = SAE.from_pretrained(\n",
    "    release=\"gemma-2b-it-res-jb\",\n",
    "    sae_id=\"blocks.12.hook_resid_post\",\n",
    "    device=\"mps\"\n",
    ")\n"
   ]
  },
  {
   "cell_type": "code",
   "execution_count": 4,
   "metadata": {},
   "outputs": [
    {
     "name": "stdout",
     "output_type": "stream",
     "text": [
      "(16384, 2048) (16384, 2048)\n",
      "16384 16384\n"
     ]
    }
   ],
   "source": [
    "gemma_2b_dec = gemma_2b_sae.W_dec.detach().cpu().numpy()\n",
    "gemma_2b_it_dec = gemma_2b_it_sae.W_dec.detach().cpu().numpy()\n",
    "\n",
    "gemma_2b_enc = gemma_2b_sae.W_enc.detach().cpu().numpy()\n",
    "gemma_2b_it_enc = gemma_2b_it_sae.W_enc.detach().cpu().numpy()\n",
    "\n",
    "m_A = gemma_2b_dec.shape[0]\n",
    "m_B = gemma_2b_it_dec.shape[0]\n",
    "n = gemma_2b_dec.shape[1]\n",
    "\n",
    "print(gemma_2b_dec.shape, gemma_2b_it_dec.shape)\n",
    "print(len(gemma_2b_dec), len(gemma_2b_it_dec))"
   ]
  },
  {
   "cell_type": "markdown",
   "metadata": {},
   "source": [
    "We can apply this learnt lienar map to the SAE features, and then learn a permutation that best aligns the two sets of features. *Warning*: This takes a while to run, because learning the permutation sucks."
   ]
  },
  {
   "cell_type": "code",
   "execution_count": 5,
   "metadata": {},
   "outputs": [
    {
     "name": "stderr",
     "output_type": "stream",
     "text": [
      "100%|██████████| 16384/16384 [00:52<00:00, 311.27it/s]\n"
     ]
    },
    {
     "name": "stdout",
     "output_type": "stream",
     "text": [
      "Mean squared error after alignment: 0.0008108550100587308\n",
      "First few permutation mappings:\n",
      "Feature 0 maps to feature 8785\n",
      "Feature 1 maps to feature 8580\n",
      "Feature 2 maps to feature 2406\n",
      "Feature 3 maps to feature 5323\n",
      "Feature 4 maps to feature 1309\n",
      "Feature 5 maps to feature 9431\n",
      "Feature 6 maps to feature 5123\n",
      "Feature 7 maps to feature 6775\n",
      "Feature 8 maps to feature 1934\n",
      "Feature 9 maps to feature 1510\n"
     ]
    }
   ],
   "source": [
    "from scipy.optimize import linear_sum_assignment\n",
    "from tqdm import tqdm\n",
    "import torch\n",
    "\n",
    "# Convert numpy arrays to torch tensors on MPS\n",
    "transformed_features = gemma_2b_dec @ R\n",
    "instruct_features = gemma_2b_it_dec\n",
    "transformed_features_t = torch.from_numpy(transformed_features.astype(np.float32)).to('mps')\n",
    "instruct_features_t = torch.from_numpy(instruct_features.astype(np.float32)).to('mps')\n",
    "\n",
    "# Calculate pairwise distances between all features using torch\n",
    "distances = torch.zeros((transformed_features.shape[0], instruct_features.shape[0]), device='mps')\n",
    "for i in tqdm(range(transformed_features.shape[0])):\n",
    "    # Vectorize inner loop by broadcasting\n",
    "    diff = transformed_features_t[i:i+1] - instruct_features_t\n",
    "    distances[i] = torch.norm(diff, dim=1)\n",
    "\n",
    "# Move distances back to CPU for linear_sum_assignment\n",
    "distances = distances.cpu().numpy()\n",
    "\n",
    "# Find optimal assignment that minimizes total distance\n",
    "row_ind, col_ind = linear_sum_assignment(distances)\n",
    "\n",
    "# Create permutation matrix from the assignment\n",
    "permutation = torch.zeros((len(row_ind), len(col_ind)), device='mps')\n",
    "for i, j in zip(row_ind, col_ind):\n",
    "    permutation[i,j] = 1\n",
    "\n",
    "# Apply permutation to get aligned features\n",
    "aligned_features = permutation @ transformed_features_t\n",
    "\n",
    "# Calculate error after alignment\n",
    "error_after_alignment = torch.mean((aligned_features - instruct_features_t) ** 2).item()\n",
    "print(f\"Mean squared error after alignment: {error_after_alignment}\")\n",
    "\n",
    "# Store the permutation indices for later use with encoder\n",
    "permutation_indices = col_ind\n",
    "\n",
    "print(\"First few permutation mappings:\")\n",
    "for i in range(min(10, len(row_ind))):\n",
    "    print(f\"Feature {i} maps to feature {permutation_indices[i]}\")\n"
   ]
  },
  {
   "cell_type": "markdown",
   "metadata": {},
   "source": [
    "Now, we take the norms to this common basis, and see where the largest differences are."
   ]
  },
  {
   "cell_type": "code",
   "execution_count": 7,
   "metadata": {},
   "outputs": [
    {
     "data": {
      "image/png": "[encoded data removed]",
      "text/plain": [
       "<Figure size 1000x600 with 1 Axes>"
      ]
     },
     "metadata": {},
     "output_type": "display_data"
    },
    {
     "name": "stdout",
     "output_type": "stream",
     "text": [
      "Mean absolute norm difference: 0.1373\n",
      "Max absolute norm difference: 0.7869\n",
      "Min absolute norm difference: 0.0000\n",
      "Largest positive differences (index, value):\n",
      "4988 -> 10841: 0.6487\n",
      "4424 -> 5233: 0.5897\n",
      "1722 -> 8731: 0.5539\n",
      "11453 -> 1589: 0.3922\n",
      "12141 -> 4834: 0.3907\n",
      "16381 -> 16317: 0.3683\n",
      "10706 -> 14482: 0.3635\n",
      "15868 -> 15497: 0.3632\n",
      "1365 -> 9630: 0.3552\n",
      "8682 -> 1547: 0.3484\n",
      "\n",
      "Largest negative differences (index, value):\n",
      "12816: -0.7869\n",
      "13319: -0.7215\n",
      "1551: -0.6639\n",
      "13208: -0.6596\n",
      "4503: -0.6468\n",
      "6440: -0.6290\n",
      "14235: -0.6024\n",
      "2982: -0.6017\n",
      "6278: -0.6017\n",
      "16007: -0.5942\n"
     ]
    }
   ],
   "source": [
    "# Get encoder norms in permuted space\n",
    "encoder_weights = gemma_2b_enc.T\n",
    "permuted_encoder_norms = np.linalg.norm(encoder_weights[permutation_indices], axis=1) / np.max(np.linalg.norm(encoder_weights[permutation_indices], axis=1))\n",
    "\n",
    "# Get encoder norms in instruct space\n",
    "instruct_encoder_norms = np.linalg.norm(gemma_2b_it_enc.T, axis=1) / np.max(np.linalg.norm(gemma_2b_it_enc.T, axis=1))\n",
    "\n",
    "# Calculate differences in norms\n",
    "norm_differences = permuted_encoder_norms - instruct_encoder_norms\n",
    "\n",
    "# Plot histogram of norm differences\n",
    "plt.figure(figsize=(10,6))\n",
    "plt.hist(norm_differences, bins=50)\n",
    "plt.title('Histogram of Norm Differences (Permuted - Instruct)')\n",
    "plt.xlabel('Norm Difference')\n",
    "plt.ylabel('Count')\n",
    "plt.show()\n",
    "\n",
    "# Print some statistics\n",
    "print(f\"Mean absolute norm difference: {np.mean(np.abs(norm_differences)):.4f}\")\n",
    "print(f\"Max absolute norm difference: {np.max(np.abs(norm_differences)):.4f}\")\n",
    "print(f\"Min absolute norm difference: {np.min(np.abs(norm_differences)):.4f}\")\n",
    "\n",
    "# get the indices of the largest positive norm differences\n",
    "# and the largest negative norm differences\n",
    "largest_positive_indices = np.argsort(norm_differences)[::-1]\n",
    "largest_negative_indices = np.argsort(norm_differences)\n",
    "\n",
    "print(\"Largest positive differences (index, value):\")\n",
    "for idx in largest_positive_indices[:10]:\n",
    "    print(f\"{idx} -> {permutation_indices[idx]}: {norm_differences[idx]:.4f}\")\n",
    "\n",
    "print(\"\\nLargest negative differences (index, value):\")\n",
    "for idx in largest_negative_indices[:10]:\n",
    "    print(f\"{idx}: {norm_differences[idx]:.4f}\")"
   ]
  },
  {
   "cell_type": "markdown",
   "metadata": {},
   "source": [
    "We have identified the largest positive and negative diffences. For reference, positive differences are features that exist in the base model, while negative differences are features that exist in the instruct model.\n",
    "\n",
    "```\n",
    "Positive: [ 4988  4424  1722 11453 12141]\n",
    "Negative: [12816 13319  1551 13208  4503]\n",
    "```"
   ]
  },
  {
   "cell_type": "code",
   "execution_count": 1,
   "metadata": {},
   "outputs": [
    {
     "name": "stderr",
     "output_type": "stream",
     "text": [
      "`config.hidden_act` is ignored, you should use `config.hidden_activation` instead.\n",
      "Gemma's activation function will be set to `gelu_pytorch_tanh`. Please, use\n",
      "`config.hidden_activation` if you want to override this behaviour.\n",
      "See https://github.com/huggingface/transformers/pull/29402 for more details.\n"
     ]
    },
    {
     "data": {
      "application/vnd.jupyter.widget-view+json": {
       "model_id": "075ae47b29c14b9bba1dec3ded09f568",
       "version_major": 2,
       "version_minor": 0
      },
      "text/plain": [
       "Loading checkpoint shards:   0%|          | 0/2 [00:00<?, ?it/s]"
      ]
     },
     "metadata": {},
     "output_type": "display_data"
    },
    {
     "name": "stderr",
     "output_type": "stream",
     "text": [
      "WARNING:root:With reduced precision, it is advised to use `from_pretrained_no_processing` instead of `from_pretrained`.\n",
      "WARNING:root:You are not using LayerNorm, so the writing weights can't be centered! Skipping\n"
     ]
    },
    {
     "name": "stdout",
     "output_type": "stream",
     "text": [
      "Loaded pretrained model gemma-2b into HookedTransformer\n"
     ]
    },
    {
     "data": {
      "application/vnd.jupyter.widget-view+json": {
       "model_id": "0480d933f2e64c3d9eb33d587cc1eea3",
       "version_major": 2,
       "version_minor": 0
      },
      "text/plain": [
       "  0%|          | 0/30 [00:00<?, ?it/s]"
      ]
     },
     "metadata": {},
     "output_type": "display_data"
    },
    {
     "data": {
      "application/vnd.jupyter.widget-view+json": {
       "model_id": "067e66a1db47456fa904a29a1119869e",
       "version_major": 2,
       "version_minor": 0
      },
      "text/plain": [
       "  0%|          | 0/30 [00:00<?, ?it/s]"
      ]
     },
     "metadata": {},
     "output_type": "display_data"
    },
    {
     "data": {
      "application/vnd.jupyter.widget-view+json": {
       "model_id": "51f29919a4c54d23ad3f3e8455332048",
       "version_major": 2,
       "version_minor": 0
      },
      "text/plain": [
       "  0%|          | 0/30 [00:00<?, ?it/s]"
      ]
     },
     "metadata": {},
     "output_type": "display_data"
    },
    {
     "data": {
      "application/vnd.jupyter.widget-view+json": {
       "model_id": "54fe7869f0e742da90885584e63af4b1",
       "version_major": 2,
       "version_minor": 0
      },
      "text/plain": [
       "  0%|          | 0/30 [00:00<?, ?it/s]"
      ]
     },
     "metadata": {},
     "output_type": "display_data"
    },
    {
     "data": {
      "application/vnd.jupyter.widget-view+json": {
       "model_id": "87b698fc9b2b44e781c5d35040af1337",
       "version_major": 2,
       "version_minor": 0
      },
      "text/plain": [
       "  0%|          | 0/30 [00:00<?, ?it/s]"
      ]
     },
     "metadata": {},
     "output_type": "display_data"
    },
    {
     "data": {
      "application/vnd.jupyter.widget-view+json": {
       "model_id": "6f5df5dffdf44b85bceb9fe3766f41a6",
       "version_major": 2,
       "version_minor": 0
      },
      "text/plain": [
       "  0%|          | 0/30 [00:00<?, ?it/s]"
      ]
     },
     "metadata": {},
     "output_type": "display_data"
    },
    {
     "data": {
      "application/vnd.jupyter.widget-view+json": {
       "model_id": "637ad62f49f24cdfb5b142edf836e7e8",
       "version_major": 2,
       "version_minor": 0
      },
      "text/plain": [
       "  0%|          | 0/30 [00:00<?, ?it/s]"
      ]
     },
     "metadata": {},
     "output_type": "display_data"
    },
    {
     "data": {
      "application/vnd.jupyter.widget-view+json": {
       "model_id": "24103c1523d541f99581adfbbe09fa53",
       "version_major": 2,
       "version_minor": 0
      },
      "text/plain": [
       "  0%|          | 0/30 [00:00<?, ?it/s]"
      ]
     },
     "metadata": {},
     "output_type": "display_data"
    },
    {
     "data": {
      "application/vnd.jupyter.widget-view+json": {
       "model_id": "a65170fdde2046fd9bdb1c0c2a6c7a3c",
       "version_major": 2,
       "version_minor": 0
      },
      "text/plain": [
       "  0%|          | 0/30 [00:00<?, ?it/s]"
      ]
     },
     "metadata": {},
     "output_type": "display_data"
    },
    {
     "data": {
      "application/vnd.jupyter.widget-view+json": {
       "model_id": "fb1ce5521e4e41d980e1751d8f88e556",
       "version_major": 2,
       "version_minor": 0
      },
      "text/plain": [
       "  0%|          | 0/30 [00:00<?, ?it/s]"
      ]
     },
     "metadata": {},
     "output_type": "display_data"
    },
    {
     "data": {
      "application/vnd.jupyter.widget-view+json": {
       "model_id": "2f04c6dc50ec4f5491e88abd01083a5c",
       "version_major": 2,
       "version_minor": 0
      },
      "text/plain": [
       "Loading checkpoint shards:   0%|          | 0/2 [00:00<?, ?it/s]"
      ]
     },
     "metadata": {},
     "output_type": "display_data"
    },
    {
     "name": "stderr",
     "output_type": "stream",
     "text": [
      "WARNING:root:With reduced precision, it is advised to use `from_pretrained_no_processing` instead of `from_pretrained`.\n",
      "WARNING:root:You are not using LayerNorm, so the writing weights can't be centered! Skipping\n"
     ]
    },
    {
     "name": "stdout",
     "output_type": "stream",
     "text": [
      "Loaded pretrained model gemma-2b-it into HookedTransformer\n"
     ]
    },
    {
     "data": {
      "application/vnd.jupyter.widget-view+json": {
       "model_id": "5cc706bb81e0493fa1bdb24609ca1305",
       "version_major": 2,
       "version_minor": 0
      },
      "text/plain": [
       "  0%|          | 0/30 [00:00<?, ?it/s]"
      ]
     },
     "metadata": {},
     "output_type": "display_data"
    },
    {
     "data": {
      "application/vnd.jupyter.widget-view+json": {
       "model_id": "1d4f81ce0dab4a93993da67b930f6409",
       "version_major": 2,
       "version_minor": 0
      },
      "text/plain": [
       "  0%|          | 0/30 [00:00<?, ?it/s]"
      ]
     },
     "metadata": {},
     "output_type": "display_data"
    },
    {
     "data": {
      "application/vnd.jupyter.widget-view+json": {
       "model_id": "7c44581d1d1641dbbfacf69be11065a8",
       "version_major": 2,
       "version_minor": 0
      },
      "text/plain": [
       "  0%|          | 0/30 [00:00<?, ?it/s]"
      ]
     },
     "metadata": {},
     "output_type": "display_data"
    },
    {
     "data": {
      "application/vnd.jupyter.widget-view+json": {
       "model_id": "cb59249600874aa78db6a4ae56815d3f",
       "version_major": 2,
       "version_minor": 0
      },
      "text/plain": [
       "  0%|          | 0/30 [00:00<?, ?it/s]"
      ]
     },
     "metadata": {},
     "output_type": "display_data"
    },
    {
     "data": {
      "application/vnd.jupyter.widget-view+json": {
       "model_id": "0ee0a543a07743de916c6b1bdf32351c",
       "version_major": 2,
       "version_minor": 0
      },
      "text/plain": [
       "  0%|          | 0/30 [00:00<?, ?it/s]"
      ]
     },
     "metadata": {},
     "output_type": "display_data"
    },
    {
     "data": {
      "application/vnd.jupyter.widget-view+json": {
       "model_id": "59e11bd9111544eab6d6c83c70558886",
       "version_major": 2,
       "version_minor": 0
      },
      "text/plain": [
       "  0%|          | 0/30 [00:00<?, ?it/s]"
      ]
     },
     "metadata": {},
     "output_type": "display_data"
    },
    {
     "data": {
      "application/vnd.jupyter.widget-view+json": {
       "model_id": "c80b94696fe54ec6b8f845a8755e6fbb",
       "version_major": 2,
       "version_minor": 0
      },
      "text/plain": [
       "  0%|          | 0/30 [00:00<?, ?it/s]"
      ]
     },
     "metadata": {},
     "output_type": "display_data"
    },
    {
     "data": {
      "application/vnd.jupyter.widget-view+json": {
       "model_id": "2cfa716badd846e19f0e89a7097825b2",
       "version_major": 2,
       "version_minor": 0
      },
      "text/plain": [
       "  0%|          | 0/30 [00:00<?, ?it/s]"
      ]
     },
     "metadata": {},
     "output_type": "display_data"
    },
    {
     "data": {
      "application/vnd.jupyter.widget-view+json": {
       "model_id": "654558e96d704736b82bfe7d5330b304",
       "version_major": 2,
       "version_minor": 0
      },
      "text/plain": [
       "  0%|          | 0/30 [00:00<?, ?it/s]"
      ]
     },
     "metadata": {},
     "output_type": "display_data"
    },
    {
     "data": {
      "application/vnd.jupyter.widget-view+json": {
       "model_id": "53a294232d784943b90f68e85fd7736e",
       "version_major": 2,
       "version_minor": 0
      },
      "text/plain": [
       "  0%|          | 0/30 [00:00<?, ?it/s]"
      ]
     },
     "metadata": {},
     "output_type": "display_data"
    },
    {
     "name": "stdout",
     "output_type": "stream",
     "text": [
      "ONLY IN BASE MODEL:\n",
      "Steering with feature 10841: The meaning of X<bos><h1>X-ray diffraction</h1>\n",
      "\n",
      "<b>X-ray diffraction</b> is a technique used to determine the structure of crystals. It was discovered by Max\n",
      "****************************************************************************************************\n",
      "Steering with feature 5233: The meaning of X<bos><h1>How to get the current page URL in a custom module?</h1>\n",
      "\n",
      "I'm trying to create a custom module that will display the current\n",
      "****************************************************************************************************\n",
      "Steering with feature 8731: The meaning of X<bos><h1>How to get the current time in a specific timezone</h1>\n",
      "\n",
      "I'm trying to get the current time in a specific timezone. I have\n",
      "****************************************************************************************************\n",
      "Steering with feature 1589: The meaning of X want to be the same as the meaning of 1.\n",
      "\n",
      "The first is a person who wants to be a star, and the second is a\n",
      "****************************************************************************************************\n",
      "Steering with feature 4834: The meaning of X said:\n",
      "\n",
      "1. The meaning of the word \"word\" is to use words to express something, and the word \"word\" is a kind\n",
      "****************************************************************************************************\n",
      "Steering with feature 16317: The meaning of Xlindo’s name is “<b>A beautiful girl</b>” and it is an <b>Girl name</b>.\n",
      "The origin of the name <b>\n",
      "****************************************************************************************************\n",
      "Steering with feature 14482: The meaning of X Ubic is \"<b>Of the sea</b>\".\n",
      "Its origin is \"<b>Modern English variant of the Latin name Ubiquitus</b>\".\n",
      "The list\n",
      "****************************************************************************************************\n",
      "Steering with feature 15497: The meaning of X10 is “the first”.\n",
      "\n",
      "The meaning of 10 is “ten”.\n",
      "\n",
      "The number 10 has a lot of meanings.\n",
      "****************************************************************************************************\n",
      "Steering with feature 9630: The meaning of X Karang is \"<b>The first born</b>\".\n",
      "Its origin is \"<b>Modern English variant of the Irish name O'Carragh</b>\".\n",
      "\n",
      "****************************************************************************************************\n",
      "Steering with feature 1547: The meaning of X itself is unknown, but it is known that the number 13 was used as a symbol for the devil in many cultures. The number 1\n",
      "\n",
      "\n",
      "\n",
      "****************************************************************************************************\n",
      "\n",
      "\n",
      "\n",
      "ONLY IN INSTRUCT MODEL:\n",
      "Steering with feature 12816: <start_of_turn>user\n",
      "What is the meaning of X?<end_of_turn>\n",
      "The context does not provide any information about the meaning of \"what is the meaning of X?\". Therefore, I cannot answer this question from the provided context\n",
      "****************************************************************************************************\n",
      "Steering with feature 13319: <start_of_turn>user\n",
      "What is the meaning of X?<end_of_turn>\n",
      "The context does not provide any information about the meaning of \"there\".\n",
      "\n",
      "**Possible interpretations:**\n",
      "\n",
      "* The variable or object being referred to in a\n",
      "****************************************************************************************************\n",
      "Steering with feature 1551: <start_of_turn>user\n",
      "What is the meaning of X?<end_of_turn>\n",
      "The context does not specify anything about the meaning of \"what is the meaning of X?\". Therefore, I cannot answer this question from the provided context.\n",
      "****************************************************************************************************\n",
      "Steering with feature 13208: <start_of_turn>user\n",
      "What is the meaning of X?<end_of_turn>\n",
      "The context does not provide any information about the meaning of \"what is the meaning of\". Therefore, I cannot answer this question from the provided context.\n",
      "****************************************************************************************************\n",
      "Steering with feature 4503: <start_of_turn>user\n",
      "What is the meaning of X?<end_of_turn>\n",
      "The context does not specify anything about the meaning of \"what is the meaning of X?\". Therefore, I cannot answer this question from the provided context.\n",
      "****************************************************************************************************\n",
      "Steering with feature 6440: <start_of_turn>user\n",
      "What is the meaning of X?<end_of_turn>\n",
      "The context does not specify anything about the meaning of \"what is the meaning of X?\". Therefore, I cannot answer this question from the provided context.\n",
      "****************************************************************************************************\n",
      "Steering with feature 14235: <start_of_turn>user\n",
      "What is the meaning of X?<end_of_turn>\n",
      "The context does not provide any information about the meaning of \"what is the meaning of\". Therefore, I cannot answer this question from the provided context.\n",
      "****************************************************************************************************\n",
      "Steering with feature 2982: <start_of_turn>user\n",
      "What is the meaning of X?<end_of_turn>\n",
      "The context does not provide any information about the meaning of \"the\". Therefore, I cannot answer this question from the provided context.<eos><eos><eos>The\n",
      "****************************************************************************************************\n",
      "Steering with feature 6278: <start_of_turn>user\n",
      "What is the meaning of X?<end_of_turn>\n",
      "The context does not provide any information about the meaning of \"what is the meaning of\". Therefore, I cannot answer this question from the provided context.\n",
      "****************************************************************************************************\n",
      "Steering with feature 16007: <start_of_turn>user\n",
      "What is the meaning of X?<end_of_turn>\n",
      "The context does not provide any information about the meaning of \"what is the meaning of X?\". Therefore, I cannot answer this question from the provided context\n"
     ]
    }
   ],
   "source": [
    "from transformer_lens import HookedTransformer\n",
    "from sae_lens import SAE\n",
    "import torch\n",
    "\n",
    "gemma_2b_model = HookedTransformer.from_pretrained(\"gemma-2b\", device=\"mps\", dtype=torch.bfloat16)\n",
    "gemma_2b_sae, cfg_dict, _ = SAE.from_pretrained(\n",
    "    release=\"gemma-2b-res-jb\", sae_id=\"blocks.12.hook_resid_post\", device=\"mps\"\n",
    ")\n",
    "\n",
    "positive_outputs = []\n",
    "negative_outputs = []\n",
    "\n",
    "steering_coeff = 100\n",
    "prompt = \"The meaning of X\"\n",
    "instruct_prompt = \"What is the meaning of X?\"\n",
    "def steer_with_feature(feature_index: int, prompt: str, model: HookedTransformer, sae: SAE) -> str:\n",
    "    steering_vector = sae.W_dec[feature_index]\n",
    "    def steering_hook(resid_post, hook):\n",
    "        if resid_post.shape[1] == 1:\n",
    "            return\n",
    "\n",
    "        resid_post[:, 4, :] += steering_coeff * steering_vector\n",
    "        return resid_post\n",
    "    \n",
    "    sampling_kwargs = dict(temperature=1.0, top_p=0.1, freq_penalty=1.0)\n",
    "    with model.hooks(fwd_hooks=[(\"blocks.12.hook_resid_post\", steering_hook)]):\n",
    "        tokenized = model.to_tokens(prompt, prepend_bos=True)\n",
    "        result = model.generate(\n",
    "            stop_at_eos=False, # avoids a bug on MPS\n",
    "            input=tokenized,\n",
    "            max_new_tokens = 30,\n",
    "            do_sample=True,\n",
    "            **sampling_kwargs\n",
    "        )\n",
    "        return f\"Steering with feature {feature_index}: {''.join(model.to_str_tokens(result[0])[1:])}\"\n",
    "\n",
    "def steer_with_feature_instruct(feature_index: int, prompt: str, model: HookedTransformer, sae: SAE) -> str:\n",
    "    steering_vector = sae.W_dec[feature_index]\n",
    "    def steering_hook(resid_post, hook):\n",
    "        if resid_post.shape[1] == 1:\n",
    "            return\n",
    "\n",
    "        resid_post[:, 9, :] += 1000 * steering_vector\n",
    "        return resid_post\n",
    "    \n",
    "    sampling_kwargs = dict(temperature=1.0, top_p=0.1, freq_penalty=1.0)\n",
    "    with model.hooks(fwd_hooks=[(\"blocks.12.hook_resid_post\", steering_hook)]):\n",
    "        tokenized = model.to_tokens(\n",
    "            model.tokenizer.apply_chat_template(\n",
    "                [{\"role\": \"user\", \"content\": prompt}], \n",
    "                tokenize=False\n",
    "            ), prepend_bos=False\n",
    "        )\n",
    "        result = model.generate(\n",
    "            stop_at_eos=False, # avoids a bug on MPS\n",
    "            input=tokenized,\n",
    "            max_new_tokens = 30,\n",
    "            do_sample=True,\n",
    "            **sampling_kwargs\n",
    "        )\n",
    "        return f\"Steering with feature {feature_index}: {''.join(model.to_str_tokens(result[0])[1:])}\"\n",
    "    \n",
    "for i in [10841, 5233, 8731, 1589, 4834, 16317, 14482, 15497, 9630, 1547]:\n",
    "    positive_outputs.append(steer_with_feature(i, prompt, model=gemma_2b_model, sae=gemma_2b_sae))\n",
    "\n",
    "del gemma_2b_model # free up memory\n",
    "\n",
    "gemma_2b_it = HookedTransformer.from_pretrained(\"gemma-2b-it\", device=\"mps\", dtype=torch.bfloat16)\n",
    "gemma_2b_it_sae, cfg_dict, _ = SAE.from_pretrained(\n",
    "    release=\"gemma-2b-it-res-jb\", sae_id=\"blocks.12.hook_resid_post\", device=\"mps\"\n",
    ")\n",
    "\n",
    "for i in [12816, 13319, 1551, 13208, 4503, 6440, 14235, 2982, 6278, 16007]:\n",
    "    negative_outputs.append(steer_with_feature_instruct(i, instruct_prompt, model=gemma_2b_it, sae=gemma_2b_it_sae))\n",
    "\n",
    "del gemma_2b_it_sae # free up memory\n",
    "del gemma_2b_it # free up memory\n",
    "\n",
    "print(\"ONLY IN BASE MODEL:\")\n",
    "print((\"\\n\" + \"*\" * 100 + \"\\n\").join(positive_outputs))\n",
    "print(\"\\n\\n\")\n",
    "print(\"*\" * 100)\n",
    "print(\"\\n\\n\")\n",
    "print(\"ONLY IN INSTRUCT MODEL:\")\n",
    "print((\"\\n\" + \"*\" * 100 + \"\\n\").join(negative_outputs))\n"
   ]
  }
 ],
 "metadata": {
  "kernelspec": {
   "display_name": "Python 3 (ipykernel)",
   "language": "python",
   "name": "python3"
  },
  "language_info": {
   "codemirror_mode": {
    "name": "ipython",
    "version": 3
   },
   "file_extension": ".py",
   "mimetype": "text/x-python",
   "name": "python",
   "nbconvert_exporter": "python",
   "pygments_lexer": "ipython3",
   "version": "3.11.9"
  }
 },
 "nbformat": 4,
 "nbformat_minor": 2
}
